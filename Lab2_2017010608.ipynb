{
 "cells": [{
   "cell_type": "code",
   "execution_count": 5,
   "metadata": {},
   "outputs": [],
   "source": [
    "import time\n",
    "import numpy as np"
   ]
  },
  {
   "cell_type": "code",
   "execution_count": 7,
   "metadata": {},
   "outputs": [
    {
     "data": {
      "text/plain": [
       "array([516.28066627, 457.94595403, 476.75629276, ..., 468.04004496,\n",
       "       515.84222451, 471.7179469 ])"
      ]
     },
     "execution_count": 7,
     "metadata": {},
     "output_type": "execute_result"
    }
    ],
   "source": [
    "Datos = np.random.normal(loc=500,scale=30,size=10000000)\n",
    "Datos"
   ]
  },

 "nbformat": 4,
 "nbformat_minor": 4
}
