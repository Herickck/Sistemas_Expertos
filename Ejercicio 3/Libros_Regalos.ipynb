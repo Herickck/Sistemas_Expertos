{
 "cells": [
  {
   "cell_type": "code",
   "execution_count": 10,
   "metadata": {},
   "outputs": [],
   "source": [
    "#Cargar las siguientes librerias para evitar errores\n",
    "import time\n",
    "import pandas as pd\n",
    "import numpy as np"
   ]
  },
  {
   "cell_type": "markdown",
   "metadata": {},
   "source": [
    "### Primera propuesta utilizando Python"
   ]
  },
  {
   "cell_type": "code",
   "execution_count": 6,
   "metadata": {},
   "outputs": [],
   "source": [
    "#Se carga los datos del archivo Txt utilizando python\n",
    "with open('costos.txt') as l:\n",
    "    libros_vendidos = l.read().split('\\n')"
   ]
  },
  {
   "cell_type": "code",
   "execution_count": 7,
   "metadata": {
    "scrolled": true
   },
   "outputs": [
    {
     "name": "stdout",
     "output_type": "stream",
     "text": [
      "Inversion:  30338353\n",
      "Duracion: 55.8332462310791 segundos\n"
     ]
    }
   ],
   "source": [
    "inicio = time.time()#comando para iniciar el cronometro\n",
    "Regalo = []#lista de las ventas que aplican\n",
    "\n",
    "for precio in libros_vendidos:\n",
    "    if int(precio) < 25:#operacion para conocer las ventas de menos de $25 dolares\n",
    "        Regalo.append(precio)#append agrega los \"preciosa\" aceptados a \"Regalo\"\n",
    "inversion = sum(map(int,Regalo))#map ejecuta una función específica para cada elemento de la lista.\n",
    "\n",
    "print('Inversion: ',inversion)\n",
    "print('Duracion: {} segundos'.format(time.time() - inicio))"
   ]
  },
  {
   "cell_type": "markdown",
   "metadata": {},
   "source": [
    "### Segunda propuesta utilizando pandas"
   ]
  },
  {
   "cell_type": "code",
   "execution_count": 8,
   "metadata": {},
   "outputs": [
    {
     "data": {
      "text/html": [
       "<div>\n",
       "<style scoped>\n",
       "    .dataframe tbody tr th:only-of-type {\n",
       "        vertical-align: middle;\n",
       "    }\n",
       "\n",
       "    .dataframe tbody tr th {\n",
       "        vertical-align: top;\n",
       "    }\n",
       "\n",
       "    .dataframe thead th {\n",
       "        text-align: right;\n",
       "    }\n",
       "</style>\n",
       "<table border=\"1\" class=\"dataframe\">\n",
       "  <thead>\n",
       "    <tr style=\"text-align: right;\">\n",
       "      <th></th>\n",
       "      <th>Inversión</th>\n",
       "    </tr>\n",
       "  </thead>\n",
       "  <tbody>\n",
       "    <tr>\n",
       "      <th>0</th>\n",
       "      <td>8</td>\n",
       "    </tr>\n",
       "    <tr>\n",
       "      <th>1</th>\n",
       "      <td>84</td>\n",
       "    </tr>\n",
       "    <tr>\n",
       "      <th>2</th>\n",
       "      <td>42</td>\n",
       "    </tr>\n",
       "    <tr>\n",
       "      <th>3</th>\n",
       "      <td>65</td>\n",
       "    </tr>\n",
       "    <tr>\n",
       "      <th>4</th>\n",
       "      <td>74</td>\n",
       "    </tr>\n",
       "  </tbody>\n",
       "</table>\n",
       "</div>"
      ],
      "text/plain": [
       "   Inversión\n",
       "0          8\n",
       "1         84\n",
       "2         42\n",
       "3         65\n",
       "4         74"
      ]
     },
     "execution_count": 8,
     "metadata": {},
     "output_type": "execute_result"
    }
   ],
   "source": [
    "#header funciona para hacer que no exista nombres en las columnas\n",
    "#usecols funciona para seleccionar una columna\n",
    "#names funciona para nombrar una columan seleccionada por usecols\n",
    "libros_vendidos = pd.read_csv(\"costos.txt\", header=None, usecols=[0], names=['Inversión'])\n",
    "libros_vendidos.head()"
   ]
  },
  {
   "cell_type": "code",
   "execution_count": 9,
   "metadata": {},
   "outputs": [
    {
     "name": "stdout",
     "output_type": "stream",
     "text": [
      "Inversión    32869928\n",
      "dtype: int64\n",
      "Duracion: 1.708974838256836 segundos\n"
     ]
    }
   ],
   "source": [
    "inicio = time.time()\n",
    "\n",
    "lista = libros_vendidos['Inversión'] <= 25#operacion para conocer las ventas de menos de $25 dolares de la lista\n",
    "regalo = libros_vendidos[lista]#selecciona solamente los libros acceptados en la operación anterios\n",
    "inversion = np.sum(regalo)#sum suma los datos de la lista \"regalo\"\n",
    "\n",
    "print(inversion)\n",
    "print('Duracion: {} segundos'.format(time.time() - inicio))"
   ]
  },
  {
   "cell_type": "code",
   "execution_count": null,
   "metadata": {},
   "outputs": [],
   "source": []
  }
 ],
 "metadata": {
  "kernelspec": {
   "display_name": "Python 3",
   "language": "python",
   "name": "python3"
  },
  "language_info": {
   "codemirror_mode": {
    "name": "ipython",
    "version": 3
   },
   "file_extension": ".py",
   "mimetype": "text/x-python",
   "name": "python",
   "nbconvert_exporter": "python",
   "pygments_lexer": "ipython3",
   "version": "3.8.3"
  }
 },
 "nbformat": 4,
 "nbformat_minor": 4
}
