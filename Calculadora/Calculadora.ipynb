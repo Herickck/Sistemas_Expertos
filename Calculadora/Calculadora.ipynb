{
 "cells": [
  {
   "cell_type": "code",
   "execution_count": 4,
   "metadata": {},
   "outputs": [],
   "source": [
    "#antes de realizar cualquier oparicion carga la liberia math\n",
    "import math"
   ]
  },
  {
   "cell_type": "code",
   "execution_count": 9,
   "metadata": {},
   "outputs": [
    {
     "name": "stdout",
     "output_type": "stream",
     "text": [
      "ingresar primer numero: 3\n",
      "ingresar segundo numero: 5\n"
     ]
    }
   ],
   "source": [
    "#Variables para obtecion de datos\n",
    "Numero_1 = float(input(\"ingresar primer numero: \"))\n",
    "Numero_2 = float(input(\"ingresar segundo numero: \"))"
   ]
  },
  {
   "cell_type": "markdown",
   "metadata": {},
   "source": [
    "### Suma"
   ]
  },
  {
   "cell_type": "code",
   "execution_count": 11,
   "metadata": {},
   "outputs": [
    {
     "name": "stdout",
     "output_type": "stream",
     "text": [
      "La suma total es:  8.0\n"
     ]
    }
   ],
   "source": [
    "Suma = Numero_1 + Numero_2\n",
    "\n",
    "print(\"La suma total es: \",Suma)"
   ]
  },
  {
   "cell_type": "markdown",
   "metadata": {},
   "source": [
    "### Resta"
   ]
  },
  {
   "cell_type": "code",
   "execution_count": 12,
   "metadata": {},
   "outputs": [
    {
     "name": "stdout",
     "output_type": "stream",
     "text": [
      "La resta total es:  -2.0\n"
     ]
    }
   ],
   "source": [
    "Resta = Numero_1 - Numero_2\n",
    "\n",
    "print(\"La resta total es: \",Resta)"
   ]
  },
  {
   "cell_type": "markdown",
   "metadata": {},
   "source": [
    "### Multiplicación"
   ]
  },
  {
   "cell_type": "code",
   "execution_count": 13,
   "metadata": {},
   "outputs": [
    {
     "name": "stdout",
     "output_type": "stream",
     "text": [
      "La multiplicación total es:  15.0\n"
     ]
    }
   ],
   "source": [
    "Multiplicacion = Numero_1 * Numero_2\n",
    "\n",
    "print(\"La multiplicación total es: \",Multiplicacion)"
   ]
  },
  {
   "cell_type": "markdown",
   "metadata": {},
   "source": [
    "### División "
   ]
  },
  {
   "cell_type": "code",
   "execution_count": 14,
   "metadata": {},
   "outputs": [
    {
     "name": "stdout",
     "output_type": "stream",
     "text": [
      "La división total es:  0.6\n"
     ]
    }
   ],
   "source": [
    "Division = Numero_1 / Numero_2\n",
    "\n",
    "print(\"La división total es: \",Division)"
   ]
  },
  {
   "cell_type": "markdown",
   "metadata": {},
   "source": [
    "### Raiz Cuadrada"
   ]
  },
  {
   "cell_type": "code",
   "execution_count": 15,
   "metadata": {},
   "outputs": [
    {
     "name": "stdout",
     "output_type": "stream",
     "text": [
      "La Raiz Cuadrada del primer numero es: 1.7320508075688772 y del segundo numero es: 2.23606797749979\n"
     ]
    }
   ],
   "source": [
    "#Se obtiene la Raiz Cuadrada de ambos numeros ingresados\n",
    "Raiz_cuadrada_1 = math.sqrt(Numero_1)#.sqrt realiza la operacion de la raiz cuadrada\n",
    "Raiz_cuadrada_2 = math.sqrt(Numero_2)\n",
    "\n",
    "print(\"La Raiz Cuadrada del primer numero es: {} y del segundo numero es: {}\".format(Raiz_cuadrada_1,Raiz_cuadrada_2))"
   ]
  },
  {
   "cell_type": "markdown",
   "metadata": {},
   "source": [
    "### Potenciación"
   ]
  },
  {
   "cell_type": "code",
   "execution_count": 16,
   "metadata": {},
   "outputs": [
    {
     "name": "stdout",
     "output_type": "stream",
     "text": [
      "La Pontencia es:  243.0\n"
     ]
    }
   ],
   "source": [
    "Potencia = pow(Numero_1, Numero_2)#pow es comando que facilita la elevacion del primer numero con el segundo\n",
    "\n",
    "print(\"La Pontencia es: \",Potencia)"
   ]
  },
  {
   "cell_type": "markdown",
   "metadata": {},
   "source": [
    "### Factorial"
   ]
  },
  {
   "cell_type": "code",
   "execution_count": 17,
   "metadata": {},
   "outputs": [
    {
     "name": "stdout",
     "output_type": "stream",
     "text": [
      "El factorial del primer numero es: 6 y el segundo numero: 120 \n"
     ]
    }
   ],
   "source": [
    "#Se obtiene los dos factoriales de ambos numeros\n",
    "Factorial_1 = math.factorial(Numero_1)\n",
    "Factorial_2 = math.factorial(Numero_2)\n",
    "\n",
    "print(\"El factorial del primer numero es: {} y el segundo numero: {} \".format(Factorial_1,Factorial_2))"
   ]
  },
  {
   "cell_type": "markdown",
   "metadata": {},
   "source": [
    "### Porcentaje"
   ]
  },
  {
   "cell_type": "code",
   "execution_count": 18,
   "metadata": {},
   "outputs": [
    {
     "name": "stdout",
     "output_type": "stream",
     "text": [
      "La cantidad de porcentaje aplicado es: 60.0%\n"
     ]
    }
   ],
   "source": [
    "#Numero_1 funciona como la cantidad de porcentaje se que se le aplicar a Numero_2\n",
    "Porcentaje = 100 * (Numero_1 / Numero_2)\n",
    "\n",
    "print(\"La cantidad de porcentaje aplicado es: {}%\".format(Porcentaje))"
   ]
  },
  {
   "cell_type": "code",
   "execution_count": null,
   "metadata": {},
   "outputs": [],
   "source": []
  }
 ],
 "metadata": {
  "kernelspec": {
   "display_name": "Python 3",
   "language": "python",
   "name": "python3"
  },
  "language_info": {
   "codemirror_mode": {
    "name": "ipython",
    "version": 3
   },
   "file_extension": ".py",
   "mimetype": "text/x-python",
   "name": "python",
   "nbconvert_exporter": "python",
   "pygments_lexer": "ipython3",
   "version": "3.8.3"
  }
 },
 "nbformat": 4,
 "nbformat_minor": 4
}
