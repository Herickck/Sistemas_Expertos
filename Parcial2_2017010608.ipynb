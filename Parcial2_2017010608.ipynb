{
 "cells": [
  {
   "cell_type": "code",
   "execution_count": 10,
   "metadata": {},
   "outputs": [],
   "source": [
    "import time\n",
    "import numpy as np\n",
    "import pandas as pd"
   ]
  },
 {
   "cell_type": "code",
   "execution_count": 18,
   "metadata": {},
   "outputs": [
    {
     "data": {
      "text/plain": [
       "array([439.76017672, 532.71258478, 482.4452796 , ..., 523.72011155,\n",
       "       501.58172749, 469.45993017])"
      ]
     },
     "execution_count": 18,
     "metadata": {},
     "output_type": "execute_result"
    }
   ],
  "source": [
    "Datos = np.random.normal(loc=500,scale=30,size=10000000)\n",
    "Datos"
   ]
  },
  {
   "cell_type": "code",
   "execution_count": 19,
   "metadata": {},
   "outputs": [
    {
     "name": "stdout",
     "output_type": "stream",
     "text": [
      "Suma total de los valores menores a 500.00: 2379077065.96  \n",
      "\n",
      "Duracion: 12.793155193328857 segundos\n"
     ]
    }
   ],
   "source": [
    "inicio = time.time()\n",
    "lista_numero = []\n",
    "suma = 0\n",
    "\n",
    "for numero in Datos:\n",
    "    if numero < 500.000:\n",
    "        lista_numero.append(numero)\n",
    "        suma += numero\n",
    "        \n",
    "print(\"Suma total de los valores menores a 500.00: {:1.2f} \".format(suma),\"\\n\")\n",
    "print('Duracion: {} segundos'.format(time.time() - inicio))"
   ]
  },
  {
   "cell_type": "code",
   "execution_count": 11,
   "metadata": {
    "scrolled": true
   },
}
