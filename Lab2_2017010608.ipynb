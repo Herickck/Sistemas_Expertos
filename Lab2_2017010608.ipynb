{
 "cells": [{
   "cell_type": "code",
   "execution_count": 5,
   "metadata": {},
   "outputs": [],
   "source": [
    "import time\n",
    "import numpy as np"
   ]
  },
 "nbformat": 4,
 "nbformat_minor": 4
}
