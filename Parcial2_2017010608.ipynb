{
 "cells": [
  {
   "cell_type": "code",
   "execution_count": 10,
   "metadata": {},
   "outputs": [],
   "source": [
    "import time\n",
    "import numpy as np\n",
    "import pandas as pd"
   ]
  },
 {
   "cell_type": "code",
   "execution_count": 18,
   "metadata": {},
   "outputs": [
    {
     "data": {
      "text/plain": [
       "array([439.76017672, 532.71258478, 482.4452796 , ..., 523.72011155,\n",
       "       501.58172749, 469.45993017])"
      ]
     },
     "execution_count": 18,
     "metadata": {},
     "output_type": "execute_result"
    }
   ],
  "source": [
    "Datos = np.random.normal(loc=500,scale=30,size=10000000)\n",
    "Datos"
   ]
  },
}
