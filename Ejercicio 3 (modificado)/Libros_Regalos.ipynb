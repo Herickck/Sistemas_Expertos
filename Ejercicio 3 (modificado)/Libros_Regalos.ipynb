{
 "cells": [
  {
   "cell_type": "code",
   "execution_count": 1,
   "metadata": {},
   "outputs": [],
   "source": [
    "#Cargar las siguientes librerias para evitar errores\n",
    "import time\n",
    "import pandas as pd\n",
    "import numpy as np"
   ]
  },
  {
   "cell_type": "code",
   "execution_count": 2,
   "metadata": {},
   "outputs": [
    {
     "data": {
      "text/html": [
       "<div>\n",
       "<style scoped>\n",
       "    .dataframe tbody tr th:only-of-type {\n",
       "        vertical-align: middle;\n",
       "    }\n",
       "\n",
       "    .dataframe tbody tr th {\n",
       "        vertical-align: top;\n",
       "    }\n",
       "\n",
       "    .dataframe thead th {\n",
       "        text-align: right;\n",
       "    }\n",
       "</style>\n",
       "<table border=\"1\" class=\"dataframe\">\n",
       "  <thead>\n",
       "    <tr style=\"text-align: right;\">\n",
       "      <th></th>\n",
       "      <th>col</th>\n",
       "    </tr>\n",
       "  </thead>\n",
       "  <tbody>\n",
       "    <tr>\n",
       "      <th>0</th>\n",
       "      <td>8</td>\n",
       "    </tr>\n",
       "    <tr>\n",
       "      <th>1</th>\n",
       "      <td>84</td>\n",
       "    </tr>\n",
       "    <tr>\n",
       "      <th>2</th>\n",
       "      <td>42</td>\n",
       "    </tr>\n",
       "    <tr>\n",
       "      <th>3</th>\n",
       "      <td>65</td>\n",
       "    </tr>\n",
       "    <tr>\n",
       "      <th>4</th>\n",
       "      <td>74</td>\n",
       "    </tr>\n",
       "  </tbody>\n",
       "</table>\n",
       "</div>"
      ],
      "text/plain": [
       "   col\n",
       "0    8\n",
       "1   84\n",
       "2   42\n",
       "3   65\n",
       "4   74"
      ]
     },
     "execution_count": 2,
     "metadata": {},
     "output_type": "execute_result"
    }
   ],
   "source": [
    "#header funciona para hacer que no exista nombres en las columnas\n",
    "#usecols funciona para seleccionar una columna\n",
    "#names funciona para nombrar una columan seleccionada por usecols\n",
    "\n",
    "libros_vendidos = pd.read_csv(\"costos.txt\", header=None, usecols=[0], names=['col'])\n",
    "libros_vendidos.head()"
   ]
  },
  {
   "cell_type": "markdown",
   "metadata": {},
   "source": [
    "### Sin IVA"
   ]
  },
  {
   "cell_type": "code",
   "execution_count": 5,
   "metadata": {},
   "outputs": [
    {
     "data": {
      "text/plain": [
       "2427235"
      ]
     },
     "execution_count": 5,
     "metadata": {},
     "output_type": "execute_result"
    }
   ],
   "source": [
    "inicio = time.time()\n",
    "\n",
    "lista = libros_vendidos['col'] < 25#operacion para conocer las ventas de menos de $25 dolares de la lista\n",
    "regalo = libros_vendidos[lista]#selecciona solamente los libros acceptados en la operación anterios\n",
    "inversion = np.sum(regalo)#sum suma los datos de la lista \"regalo\"\n",
    "\n",
    "len(regalo)"
   ]
  },
  {
   "cell_type": "markdown",
   "metadata": {},
   "source": [
    "### Con IVA"
   ]
  },
  {
   "cell_type": "code",
   "execution_count": 3,
   "metadata": {},
   "outputs": [
    {
     "name": "stdout",
     "output_type": "stream",
     "text": [
      "Inversion sin IVA: 30338353  \n",
      "\n",
      "Inversion con IVA: 34282338.89  \n",
      "\n",
      "La diferencia es: 3943985.89  \n",
      "\n",
      "Duracion: 0.5416622161865234 segundos\n"
     ]
    }
   ],
   "source": [
    "inicio = time.time()\n",
    "\n",
    "lista = libros_vendidos['col'] < 25\n",
    "regalo = libros_vendidos[lista]\n",
    "\n",
    "sin_IVA = np.sum(regalo)\n",
    "con_IVA = sin_IVA * 1.13\n",
    "diferencia = con_IVA - sin_IVA\n",
    "\n",
    "print(\"Inversion sin IVA: {} \".format(sin_IVA.col),\"\\n\")\n",
    "print(\"Inversion con IVA: {:1.2f} \".format(con_IVA.col),\"\\n\")\n",
    "print(\"La diferencia es: {:1.2f} \".format(diferencia.col),\"\\n\")\n",
    "print('Duracion: {} segundos'.format(time.time() - inicio))"
   ]
  },
  {
   "cell_type": "code",
   "execution_count": 4,
   "metadata": {},
   "outputs": [
    {
     "data": {
      "text/plain": [
       "2427235"
      ]
     },
     "execution_count": 4,
     "metadata": {},
     "output_type": "execute_result"
    }
   ],
   "source": [
    "regalo = libros_vendidos[lista]\n",
    "len(regalo)"
   ]
  },
  {
   "cell_type": "code",
   "execution_count": null,
   "metadata": {},
   "outputs": [],
   "source": []
  }
 ],
 "metadata": {
  "kernelspec": {
   "display_name": "Python 3",
   "language": "python",
   "name": "python3"
  },
  "language_info": {
   "codemirror_mode": {
    "name": "ipython",
    "version": 3
   },
   "file_extension": ".py",
   "mimetype": "text/x-python",
   "name": "python",
   "nbconvert_exporter": "python",
   "pygments_lexer": "ipython3",
   "version": "3.8.3"
  }
 },
 "nbformat": 4,
 "nbformat_minor": 4
}
